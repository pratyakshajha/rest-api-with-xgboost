{
 "cells": [
  {
   "cell_type": "markdown",
   "metadata": {},
   "source": [
    "# Training the XGBoost model\n",
    "Start with training a model. The problem statement and data is the [house prices](https://www.kaggle.com/c/house-prices-advanced-regression-techniques) from kaggle. "
   ]
  },
  {
   "cell_type": "code",
   "execution_count": 65,
   "metadata": {},
   "outputs": [],
   "source": [
    "import pandas as pd\n",
    "from sklearn.model_selection import train_test_split\n",
    "from xgboost import XGBRegressor\n",
    "from sklearn.metrics import mean_absolute_error"
   ]
  },
  {
   "cell_type": "code",
   "execution_count": 67,
   "metadata": {},
   "outputs": [],
   "source": [
    "data = pd.read_csv('data/train.csv')\n",
    "data.dropna(axis=0, subset=['SalePrice'], inplace=True)\n",
    "y = data.SalePrice\n",
    "X = data.drop(['SalePrice'], axis=1).select_dtypes(exclude=['object'])\n",
    "train_X, test_X, train_y, test_y = train_test_split(X, y, test_size=0.30)"
   ]
  },
  {
   "cell_type": "code",
   "execution_count": 68,
   "metadata": {
    "scrolled": true
   },
   "outputs": [
    {
     "name": "stdout",
     "output_type": "stream",
     "text": [
      "[0]\tvalidation_0-rmse:185542.71875\n",
      "Will train until validation_0-rmse hasn't improved in 10 rounds.\n",
      "[1]\tvalidation_0-rmse:168205.29688\n",
      "[2]\tvalidation_0-rmse:152588.65625\n",
      "[3]\tvalidation_0-rmse:138712.60938\n",
      "[4]\tvalidation_0-rmse:126079.64844\n",
      "[5]\tvalidation_0-rmse:114682.03125\n",
      "[6]\tvalidation_0-rmse:105044.53906\n",
      "[7]\tvalidation_0-rmse:95954.64844\n",
      "[8]\tvalidation_0-rmse:87982.34375\n",
      "[9]\tvalidation_0-rmse:80815.25000\n",
      "[10]\tvalidation_0-rmse:74429.23438\n",
      "[11]\tvalidation_0-rmse:68550.01562\n",
      "[12]\tvalidation_0-rmse:63485.14453\n",
      "[13]\tvalidation_0-rmse:58950.50391\n",
      "[14]\tvalidation_0-rmse:55040.39844\n",
      "[15]\tvalidation_0-rmse:51496.84375\n",
      "[16]\tvalidation_0-rmse:47912.87109\n",
      "[17]\tvalidation_0-rmse:44691.46875\n",
      "[18]\tvalidation_0-rmse:41872.16406\n",
      "[19]\tvalidation_0-rmse:39719.75000\n",
      "[20]\tvalidation_0-rmse:37909.73828\n",
      "[21]\tvalidation_0-rmse:36327.73438\n",
      "[22]\tvalidation_0-rmse:35078.70703\n",
      "[23]\tvalidation_0-rmse:34017.23828\n",
      "[24]\tvalidation_0-rmse:32910.70312\n",
      "[25]\tvalidation_0-rmse:32074.46484\n",
      "[26]\tvalidation_0-rmse:31103.90039\n",
      "[27]\tvalidation_0-rmse:30465.88086\n",
      "[28]\tvalidation_0-rmse:30047.37109\n",
      "[29]\tvalidation_0-rmse:29605.69727\n",
      "[30]\tvalidation_0-rmse:29284.38672\n",
      "[31]\tvalidation_0-rmse:28936.57812\n",
      "[32]\tvalidation_0-rmse:28639.11914\n",
      "[33]\tvalidation_0-rmse:28370.24805\n",
      "[34]\tvalidation_0-rmse:28157.15820\n",
      "[35]\tvalidation_0-rmse:28082.36133\n",
      "[36]\tvalidation_0-rmse:27986.13086\n",
      "[37]\tvalidation_0-rmse:27864.44922\n",
      "[38]\tvalidation_0-rmse:27714.11133\n",
      "[39]\tvalidation_0-rmse:27668.94727\n",
      "[40]\tvalidation_0-rmse:27564.67383\n",
      "[41]\tvalidation_0-rmse:27520.59766\n",
      "[42]\tvalidation_0-rmse:27427.35547\n",
      "[43]\tvalidation_0-rmse:27330.86719\n",
      "[44]\tvalidation_0-rmse:27250.10938\n",
      "[45]\tvalidation_0-rmse:27237.41016\n",
      "[46]\tvalidation_0-rmse:27115.16602\n",
      "[47]\tvalidation_0-rmse:27089.14062\n",
      "[48]\tvalidation_0-rmse:27100.36719\n",
      "[49]\tvalidation_0-rmse:27074.98047\n",
      "[50]\tvalidation_0-rmse:27029.74023\n",
      "[51]\tvalidation_0-rmse:26954.88477\n",
      "[52]\tvalidation_0-rmse:26896.09180\n",
      "[53]\tvalidation_0-rmse:26919.31836\n",
      "[54]\tvalidation_0-rmse:26907.27344\n",
      "[55]\tvalidation_0-rmse:26895.02734\n",
      "[56]\tvalidation_0-rmse:26863.32617\n",
      "[57]\tvalidation_0-rmse:26824.20703\n",
      "[58]\tvalidation_0-rmse:26827.87305\n",
      "[59]\tvalidation_0-rmse:26785.73242\n",
      "[60]\tvalidation_0-rmse:26750.60352\n",
      "[61]\tvalidation_0-rmse:26759.92188\n",
      "[62]\tvalidation_0-rmse:26752.77930\n",
      "[63]\tvalidation_0-rmse:26760.24219\n",
      "[64]\tvalidation_0-rmse:26766.75781\n",
      "[65]\tvalidation_0-rmse:26743.79102\n",
      "[66]\tvalidation_0-rmse:26729.47656\n",
      "[67]\tvalidation_0-rmse:26710.16211\n",
      "[68]\tvalidation_0-rmse:26708.58398\n",
      "[69]\tvalidation_0-rmse:26720.37891\n",
      "[70]\tvalidation_0-rmse:26714.24219\n",
      "[71]\tvalidation_0-rmse:26711.00781\n",
      "[72]\tvalidation_0-rmse:26705.03320\n",
      "[73]\tvalidation_0-rmse:26711.26562\n",
      "[74]\tvalidation_0-rmse:26727.41602\n",
      "[75]\tvalidation_0-rmse:26732.61133\n",
      "[76]\tvalidation_0-rmse:26738.64453\n",
      "[77]\tvalidation_0-rmse:26756.99805\n",
      "[78]\tvalidation_0-rmse:26739.45117\n",
      "[79]\tvalidation_0-rmse:26742.84766\n",
      "[80]\tvalidation_0-rmse:26766.28320\n",
      "[81]\tvalidation_0-rmse:26764.00000\n",
      "[82]\tvalidation_0-rmse:26758.07422\n",
      "Stopping. Best iteration:\n",
      "[72]\tvalidation_0-rmse:26705.03320\n",
      "\n"
     ]
    },
    {
     "data": {
      "text/plain": [
       "XGBRegressor(base_score=0.5, booster='gbtree', colsample_bylevel=1,\n",
       "             colsample_bynode=1, colsample_bytree=1, gamma=0, gpu_id=-1,\n",
       "             importance_type='gain', interaction_constraints='',\n",
       "             learning_rate=0.1, max_delta_step=0, max_depth=6,\n",
       "             min_child_weight=1, missing=nan, monotone_constraints='()',\n",
       "             n_estimators=100, n_jobs=0, num_parallel_tree=1,\n",
       "             objective='reg:squarederror', random_state=0, reg_alpha=0,\n",
       "             reg_lambda=1, scale_pos_weight=1, subsample=1, tree_method='exact',\n",
       "             validate_parameters=1, verbosity=None)"
      ]
     },
     "execution_count": 68,
     "metadata": {},
     "output_type": "execute_result"
    }
   ],
   "source": [
    "model = XGBRegressor(learning_rate=0.1)\n",
    "model.fit(train_X, train_y, early_stopping_rounds=10, eval_set=[(test_X, test_y)])"
   ]
  },
  {
   "cell_type": "code",
   "execution_count": 69,
   "metadata": {},
   "outputs": [
    {
     "data": {
      "text/plain": [
       "17325.788955479453"
      ]
     },
     "execution_count": 69,
     "metadata": {},
     "output_type": "execute_result"
    }
   ],
   "source": [
    "predictions = model.predict(test_X)\n",
    "mean_absolute_error(predictions, test_y)"
   ]
  },
  {
   "cell_type": "markdown",
   "metadata": {},
   "source": [
    "# Save the model"
   ]
  },
  {
   "cell_type": "code",
   "execution_count": 70,
   "metadata": {},
   "outputs": [],
   "source": [
    "model.save_model('model-housing-prices')"
   ]
  },
  {
   "cell_type": "markdown",
   "metadata": {},
   "source": [
    "# Load the model"
   ]
  },
  {
   "cell_type": "code",
   "execution_count": 71,
   "metadata": {},
   "outputs": [],
   "source": [
    "loaded_model = XGBRegressor()\n",
    "loaded_model.load_model('model-housing-prices')"
   ]
  },
  {
   "cell_type": "markdown",
   "metadata": {},
   "source": [
    "# Predict"
   ]
  },
  {
   "cell_type": "code",
   "execution_count": 72,
   "metadata": {},
   "outputs": [
    {
     "data": {
      "text/plain": [
       "17325.788955479453"
      ]
     },
     "execution_count": 72,
     "metadata": {},
     "output_type": "execute_result"
    }
   ],
   "source": [
    "predictions = loaded_model.predict(test_X)\n",
    "mean_absolute_error(predictions, test_y)"
   ]
  },
  {
   "cell_type": "code",
   "execution_count": 73,
   "metadata": {},
   "outputs": [
    {
     "data": {
      "text/html": [
       "<div>\n",
       "<style scoped>\n",
       "    .dataframe tbody tr th:only-of-type {\n",
       "        vertical-align: middle;\n",
       "    }\n",
       "\n",
       "    .dataframe tbody tr th {\n",
       "        vertical-align: top;\n",
       "    }\n",
       "\n",
       "    .dataframe thead th {\n",
       "        text-align: right;\n",
       "    }\n",
       "</style>\n",
       "<table border=\"1\" class=\"dataframe\">\n",
       "  <thead>\n",
       "    <tr style=\"text-align: right;\">\n",
       "      <th></th>\n",
       "      <th>Id</th>\n",
       "      <th>MSSubClass</th>\n",
       "      <th>LotFrontage</th>\n",
       "      <th>LotArea</th>\n",
       "      <th>OverallQual</th>\n",
       "      <th>OverallCond</th>\n",
       "      <th>YearBuilt</th>\n",
       "      <th>YearRemodAdd</th>\n",
       "      <th>MasVnrArea</th>\n",
       "      <th>BsmtFinSF1</th>\n",
       "      <th>...</th>\n",
       "      <th>GarageArea</th>\n",
       "      <th>WoodDeckSF</th>\n",
       "      <th>OpenPorchSF</th>\n",
       "      <th>EnclosedPorch</th>\n",
       "      <th>3SsnPorch</th>\n",
       "      <th>ScreenPorch</th>\n",
       "      <th>PoolArea</th>\n",
       "      <th>MiscVal</th>\n",
       "      <th>MoSold</th>\n",
       "      <th>YrSold</th>\n",
       "    </tr>\n",
       "  </thead>\n",
       "  <tbody>\n",
       "    <tr>\n",
       "      <th>736</th>\n",
       "      <td>737</td>\n",
       "      <td>90</td>\n",
       "      <td>60.0</td>\n",
       "      <td>8544</td>\n",
       "      <td>3</td>\n",
       "      <td>4</td>\n",
       "      <td>1950</td>\n",
       "      <td>1950</td>\n",
       "      <td>0.0</td>\n",
       "      <td>0</td>\n",
       "      <td>...</td>\n",
       "      <td>400</td>\n",
       "      <td>0</td>\n",
       "      <td>0</td>\n",
       "      <td>0</td>\n",
       "      <td>0</td>\n",
       "      <td>0</td>\n",
       "      <td>0</td>\n",
       "      <td>0</td>\n",
       "      <td>7</td>\n",
       "      <td>2006</td>\n",
       "    </tr>\n",
       "  </tbody>\n",
       "</table>\n",
       "<p>1 rows × 37 columns</p>\n",
       "</div>"
      ],
      "text/plain": [
       "      Id  MSSubClass  LotFrontage  LotArea  OverallQual  OverallCond  \\\n",
       "736  737          90         60.0     8544            3            4   \n",
       "\n",
       "     YearBuilt  YearRemodAdd  MasVnrArea  BsmtFinSF1  ...  GarageArea  \\\n",
       "736       1950          1950         0.0           0  ...         400   \n",
       "\n",
       "     WoodDeckSF  OpenPorchSF  EnclosedPorch  3SsnPorch  ScreenPorch  PoolArea  \\\n",
       "736           0            0              0          0            0         0   \n",
       "\n",
       "     MiscVal  MoSold  YrSold  \n",
       "736        0       7    2006  \n",
       "\n",
       "[1 rows x 37 columns]"
      ]
     },
     "execution_count": 73,
     "metadata": {},
     "output_type": "execute_result"
    }
   ],
   "source": [
    "test_X.head(1)"
   ]
  },
  {
   "cell_type": "code",
   "execution_count": 74,
   "metadata": {},
   "outputs": [
    {
     "data": {
      "text/plain": [
       "array([86808.45], dtype=float32)"
      ]
     },
     "execution_count": 74,
     "metadata": {},
     "output_type": "execute_result"
    }
   ],
   "source": [
    "loaded_model.predict(test_X.head(1))"
   ]
  },
  {
   "cell_type": "code",
   "execution_count": 75,
   "metadata": {},
   "outputs": [
    {
     "data": {
      "text/plain": [
       "736    93500\n",
       "Name: SalePrice, dtype: int64"
      ]
     },
     "execution_count": 75,
     "metadata": {},
     "output_type": "execute_result"
    }
   ],
   "source": [
    "test_y.head(1)"
   ]
  },
  {
   "cell_type": "markdown",
   "metadata": {},
   "source": [
    "# Print as JSON"
   ]
  },
  {
   "cell_type": "code",
   "execution_count": 79,
   "metadata": {},
   "outputs": [
    {
     "name": "stdout",
     "output_type": "stream",
     "text": [
      "[\n",
      "    {\n",
      "        \"Id\":737,\n",
      "        \"MSSubClass\":90,\n",
      "        \"LotFrontage\":60.0,\n",
      "        \"LotArea\":8544,\n",
      "        \"OverallQual\":3,\n",
      "        \"OverallCond\":4,\n",
      "        \"YearBuilt\":1950,\n",
      "        \"YearRemodAdd\":1950,\n",
      "        \"MasVnrArea\":0.0,\n",
      "        \"BsmtFinSF1\":0,\n",
      "        \"BsmtFinSF2\":0,\n",
      "        \"BsmtUnfSF\":0,\n",
      "        \"TotalBsmtSF\":0,\n",
      "        \"1stFlrSF\":1040,\n",
      "        \"2ndFlrSF\":0,\n",
      "        \"LowQualFinSF\":0,\n",
      "        \"GrLivArea\":1040,\n",
      "        \"BsmtFullBath\":0,\n",
      "        \"BsmtHalfBath\":0,\n",
      "        \"FullBath\":2,\n",
      "        \"HalfBath\":0,\n",
      "        \"BedroomAbvGr\":2,\n",
      "        \"KitchenAbvGr\":2,\n",
      "        \"TotRmsAbvGrd\":6,\n",
      "        \"Fireplaces\":0,\n",
      "        \"GarageYrBlt\":1949.0,\n",
      "        \"GarageCars\":2,\n",
      "        \"GarageArea\":400,\n",
      "        \"WoodDeckSF\":0,\n",
      "        \"OpenPorchSF\":0,\n",
      "        \"EnclosedPorch\":0,\n",
      "        \"3SsnPorch\":0,\n",
      "        \"ScreenPorch\":0,\n",
      "        \"PoolArea\":0,\n",
      "        \"MiscVal\":0,\n",
      "        \"MoSold\":7,\n",
      "        \"YrSold\":2006\n",
      "    }\n",
      "]\n"
     ]
    }
   ],
   "source": [
    "print(test_X.head(1).to_json(orient=\"records\", indent=4))"
   ]
  },
  {
   "cell_type": "code",
   "execution_count": null,
   "metadata": {},
   "outputs": [],
   "source": []
  }
 ],
 "metadata": {
  "kernelspec": {
   "display_name": "Python 3",
   "language": "python",
   "name": "python3"
  },
  "language_info": {
   "codemirror_mode": {
    "name": "ipython",
    "version": 3
   },
   "file_extension": ".py",
   "mimetype": "text/x-python",
   "name": "python",
   "nbconvert_exporter": "python",
   "pygments_lexer": "ipython3",
   "version": "3.7.6"
  }
 },
 "nbformat": 4,
 "nbformat_minor": 4
}
